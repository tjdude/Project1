{
 "cells": [
  {
   "cell_type": "code",
   "execution_count": 1,
   "id": "096077ad-d150-4417-beef-3295f5f874e5",
   "metadata": {
    "scrolled": true
   },
   "outputs": [
    {
     "data": {
      "text/html": [
       "<div>\n",
       "<style scoped>\n",
       "    .dataframe tbody tr th:only-of-type {\n",
       "        vertical-align: middle;\n",
       "    }\n",
       "\n",
       "    .dataframe tbody tr th {\n",
       "        vertical-align: top;\n",
       "    }\n",
       "\n",
       "    .dataframe thead th {\n",
       "        text-align: right;\n",
       "    }\n",
       "</style>\n",
       "<table border=\"1\" class=\"dataframe\">\n",
       "  <thead>\n",
       "    <tr style=\"text-align: right;\">\n",
       "      <th></th>\n",
       "      <th>기준년도</th>\n",
       "      <th>가입자일련번호</th>\n",
       "      <th>시도코드</th>\n",
       "      <th>성별</th>\n",
       "      <th>연령대코드(5세단위)</th>\n",
       "      <th>신장(5cm단위)</th>\n",
       "      <th>체중(5kg단위)</th>\n",
       "      <th>수축기혈압</th>\n",
       "      <th>이완기혈압</th>\n",
       "      <th>식전혈당(공복혈당)</th>\n",
       "      <th>...</th>\n",
       "      <th>흡연상태</th>\n",
       "      <th>음주여부</th>\n",
       "      <th>혈색소</th>\n",
       "      <th>요단백</th>\n",
       "      <th>혈청크레아티닌</th>\n",
       "      <th>혈청지오티(AST)</th>\n",
       "      <th>혈청지피티(ALT)</th>\n",
       "      <th>감마지티피</th>\n",
       "      <th>키(m)</th>\n",
       "      <th>BMI</th>\n",
       "    </tr>\n",
       "  </thead>\n",
       "  <tbody>\n",
       "    <tr>\n",
       "      <th>0</th>\n",
       "      <td>2020</td>\n",
       "      <td>2250657</td>\n",
       "      <td>41</td>\n",
       "      <td>2</td>\n",
       "      <td>13</td>\n",
       "      <td>160</td>\n",
       "      <td>55</td>\n",
       "      <td>130.0</td>\n",
       "      <td>82.0</td>\n",
       "      <td>98.0</td>\n",
       "      <td>...</td>\n",
       "      <td>1.0</td>\n",
       "      <td>0.0</td>\n",
       "      <td>13.4</td>\n",
       "      <td>1.0</td>\n",
       "      <td>0.8</td>\n",
       "      <td>46.0</td>\n",
       "      <td>77.0</td>\n",
       "      <td>62.0</td>\n",
       "      <td>1.60</td>\n",
       "      <td>21.484375</td>\n",
       "    </tr>\n",
       "    <tr>\n",
       "      <th>1</th>\n",
       "      <td>2020</td>\n",
       "      <td>4699612</td>\n",
       "      <td>41</td>\n",
       "      <td>2</td>\n",
       "      <td>10</td>\n",
       "      <td>160</td>\n",
       "      <td>55</td>\n",
       "      <td>130.0</td>\n",
       "      <td>80.0</td>\n",
       "      <td>98.0</td>\n",
       "      <td>...</td>\n",
       "      <td>1.0</td>\n",
       "      <td>1.0</td>\n",
       "      <td>10.8</td>\n",
       "      <td>1.0</td>\n",
       "      <td>0.8</td>\n",
       "      <td>24.0</td>\n",
       "      <td>19.0</td>\n",
       "      <td>21.0</td>\n",
       "      <td>1.60</td>\n",
       "      <td>21.484375</td>\n",
       "    </tr>\n",
       "    <tr>\n",
       "      <th>2</th>\n",
       "      <td>2020</td>\n",
       "      <td>4734684</td>\n",
       "      <td>41</td>\n",
       "      <td>1</td>\n",
       "      <td>9</td>\n",
       "      <td>180</td>\n",
       "      <td>100</td>\n",
       "      <td>130.0</td>\n",
       "      <td>90.0</td>\n",
       "      <td>103.0</td>\n",
       "      <td>...</td>\n",
       "      <td>1.0</td>\n",
       "      <td>1.0</td>\n",
       "      <td>14.7</td>\n",
       "      <td>1.0</td>\n",
       "      <td>0.8</td>\n",
       "      <td>23.0</td>\n",
       "      <td>21.0</td>\n",
       "      <td>23.0</td>\n",
       "      <td>1.80</td>\n",
       "      <td>30.864198</td>\n",
       "    </tr>\n",
       "    <tr>\n",
       "      <th>3</th>\n",
       "      <td>2020</td>\n",
       "      <td>4450131</td>\n",
       "      <td>41</td>\n",
       "      <td>2</td>\n",
       "      <td>11</td>\n",
       "      <td>155</td>\n",
       "      <td>60</td>\n",
       "      <td>149.0</td>\n",
       "      <td>90.0</td>\n",
       "      <td>84.0</td>\n",
       "      <td>...</td>\n",
       "      <td>1.0</td>\n",
       "      <td>1.0</td>\n",
       "      <td>13.6</td>\n",
       "      <td>1.0</td>\n",
       "      <td>0.8</td>\n",
       "      <td>29.0</td>\n",
       "      <td>27.0</td>\n",
       "      <td>18.0</td>\n",
       "      <td>1.55</td>\n",
       "      <td>24.973985</td>\n",
       "    </tr>\n",
       "    <tr>\n",
       "      <th>4</th>\n",
       "      <td>2020</td>\n",
       "      <td>1337937</td>\n",
       "      <td>41</td>\n",
       "      <td>2</td>\n",
       "      <td>10</td>\n",
       "      <td>155</td>\n",
       "      <td>50</td>\n",
       "      <td>129.0</td>\n",
       "      <td>80.0</td>\n",
       "      <td>104.0</td>\n",
       "      <td>...</td>\n",
       "      <td>1.0</td>\n",
       "      <td>0.0</td>\n",
       "      <td>11.8</td>\n",
       "      <td>1.0</td>\n",
       "      <td>0.8</td>\n",
       "      <td>32.0</td>\n",
       "      <td>33.0</td>\n",
       "      <td>11.0</td>\n",
       "      <td>1.55</td>\n",
       "      <td>20.811655</td>\n",
       "    </tr>\n",
       "    <tr>\n",
       "      <th>...</th>\n",
       "      <td>...</td>\n",
       "      <td>...</td>\n",
       "      <td>...</td>\n",
       "      <td>...</td>\n",
       "      <td>...</td>\n",
       "      <td>...</td>\n",
       "      <td>...</td>\n",
       "      <td>...</td>\n",
       "      <td>...</td>\n",
       "      <td>...</td>\n",
       "      <td>...</td>\n",
       "      <td>...</td>\n",
       "      <td>...</td>\n",
       "      <td>...</td>\n",
       "      <td>...</td>\n",
       "      <td>...</td>\n",
       "      <td>...</td>\n",
       "      <td>...</td>\n",
       "      <td>...</td>\n",
       "      <td>...</td>\n",
       "      <td>...</td>\n",
       "    </tr>\n",
       "    <tr>\n",
       "      <th>3999995</th>\n",
       "      <td>2023</td>\n",
       "      <td>3265034</td>\n",
       "      <td>26</td>\n",
       "      <td>1</td>\n",
       "      <td>8</td>\n",
       "      <td>170</td>\n",
       "      <td>65</td>\n",
       "      <td>107.0</td>\n",
       "      <td>61.0</td>\n",
       "      <td>83.0</td>\n",
       "      <td>...</td>\n",
       "      <td>1.0</td>\n",
       "      <td>1.0</td>\n",
       "      <td>13.6</td>\n",
       "      <td>1.0</td>\n",
       "      <td>0.9</td>\n",
       "      <td>19.0</td>\n",
       "      <td>13.0</td>\n",
       "      <td>22.0</td>\n",
       "      <td>1.70</td>\n",
       "      <td>22.491349</td>\n",
       "    </tr>\n",
       "    <tr>\n",
       "      <th>3999996</th>\n",
       "      <td>2023</td>\n",
       "      <td>1421865</td>\n",
       "      <td>41</td>\n",
       "      <td>1</td>\n",
       "      <td>10</td>\n",
       "      <td>165</td>\n",
       "      <td>80</td>\n",
       "      <td>139.0</td>\n",
       "      <td>86.0</td>\n",
       "      <td>118.0</td>\n",
       "      <td>...</td>\n",
       "      <td>2.0</td>\n",
       "      <td>1.0</td>\n",
       "      <td>15.3</td>\n",
       "      <td>1.0</td>\n",
       "      <td>0.8</td>\n",
       "      <td>70.0</td>\n",
       "      <td>65.0</td>\n",
       "      <td>160.0</td>\n",
       "      <td>1.65</td>\n",
       "      <td>29.384757</td>\n",
       "    </tr>\n",
       "    <tr>\n",
       "      <th>3999997</th>\n",
       "      <td>2023</td>\n",
       "      <td>3889375</td>\n",
       "      <td>41</td>\n",
       "      <td>2</td>\n",
       "      <td>11</td>\n",
       "      <td>155</td>\n",
       "      <td>65</td>\n",
       "      <td>146.0</td>\n",
       "      <td>83.0</td>\n",
       "      <td>156.0</td>\n",
       "      <td>...</td>\n",
       "      <td>1.0</td>\n",
       "      <td>1.0</td>\n",
       "      <td>14.7</td>\n",
       "      <td>1.0</td>\n",
       "      <td>0.8</td>\n",
       "      <td>20.0</td>\n",
       "      <td>26.0</td>\n",
       "      <td>25.0</td>\n",
       "      <td>1.55</td>\n",
       "      <td>27.055151</td>\n",
       "    </tr>\n",
       "    <tr>\n",
       "      <th>3999998</th>\n",
       "      <td>2023</td>\n",
       "      <td>2618086</td>\n",
       "      <td>41</td>\n",
       "      <td>2</td>\n",
       "      <td>7</td>\n",
       "      <td>160</td>\n",
       "      <td>55</td>\n",
       "      <td>122.0</td>\n",
       "      <td>71.0</td>\n",
       "      <td>105.0</td>\n",
       "      <td>...</td>\n",
       "      <td>1.0</td>\n",
       "      <td>0.0</td>\n",
       "      <td>13.5</td>\n",
       "      <td>1.0</td>\n",
       "      <td>0.9</td>\n",
       "      <td>22.0</td>\n",
       "      <td>20.0</td>\n",
       "      <td>16.0</td>\n",
       "      <td>1.60</td>\n",
       "      <td>21.484375</td>\n",
       "    </tr>\n",
       "    <tr>\n",
       "      <th>3999999</th>\n",
       "      <td>2023</td>\n",
       "      <td>1279122</td>\n",
       "      <td>31</td>\n",
       "      <td>2</td>\n",
       "      <td>12</td>\n",
       "      <td>160</td>\n",
       "      <td>50</td>\n",
       "      <td>129.0</td>\n",
       "      <td>62.0</td>\n",
       "      <td>95.0</td>\n",
       "      <td>...</td>\n",
       "      <td>1.0</td>\n",
       "      <td>0.0</td>\n",
       "      <td>13.0</td>\n",
       "      <td>1.0</td>\n",
       "      <td>0.8</td>\n",
       "      <td>29.0</td>\n",
       "      <td>21.0</td>\n",
       "      <td>34.0</td>\n",
       "      <td>1.60</td>\n",
       "      <td>19.531250</td>\n",
       "    </tr>\n",
       "  </tbody>\n",
       "</table>\n",
       "<p>4000000 rows × 24 columns</p>\n",
       "</div>"
      ],
      "text/plain": [
       "         기준년도  가입자일련번호  시도코드  성별  연령대코드(5세단위)  신장(5cm단위)  체중(5kg단위)  수축기혈압  \\\n",
       "0        2020  2250657    41   2           13        160         55  130.0   \n",
       "1        2020  4699612    41   2           10        160         55  130.0   \n",
       "2        2020  4734684    41   1            9        180        100  130.0   \n",
       "3        2020  4450131    41   2           11        155         60  149.0   \n",
       "4        2020  1337937    41   2           10        155         50  129.0   \n",
       "...       ...      ...   ...  ..          ...        ...        ...    ...   \n",
       "3999995  2023  3265034    26   1            8        170         65  107.0   \n",
       "3999996  2023  1421865    41   1           10        165         80  139.0   \n",
       "3999997  2023  3889375    41   2           11        155         65  146.0   \n",
       "3999998  2023  2618086    41   2            7        160         55  122.0   \n",
       "3999999  2023  1279122    31   2           12        160         50  129.0   \n",
       "\n",
       "         이완기혈압  식전혈당(공복혈당)  ...  흡연상태  음주여부   혈색소  요단백  혈청크레아티닌  혈청지오티(AST)  \\\n",
       "0         82.0        98.0  ...   1.0   0.0  13.4  1.0      0.8        46.0   \n",
       "1         80.0        98.0  ...   1.0   1.0  10.8  1.0      0.8        24.0   \n",
       "2         90.0       103.0  ...   1.0   1.0  14.7  1.0      0.8        23.0   \n",
       "3         90.0        84.0  ...   1.0   1.0  13.6  1.0      0.8        29.0   \n",
       "4         80.0       104.0  ...   1.0   0.0  11.8  1.0      0.8        32.0   \n",
       "...        ...         ...  ...   ...   ...   ...  ...      ...         ...   \n",
       "3999995   61.0        83.0  ...   1.0   1.0  13.6  1.0      0.9        19.0   \n",
       "3999996   86.0       118.0  ...   2.0   1.0  15.3  1.0      0.8        70.0   \n",
       "3999997   83.0       156.0  ...   1.0   1.0  14.7  1.0      0.8        20.0   \n",
       "3999998   71.0       105.0  ...   1.0   0.0  13.5  1.0      0.9        22.0   \n",
       "3999999   62.0        95.0  ...   1.0   0.0  13.0  1.0      0.8        29.0   \n",
       "\n",
       "         혈청지피티(ALT)  감마지티피  키(m)        BMI  \n",
       "0              77.0   62.0  1.60  21.484375  \n",
       "1              19.0   21.0  1.60  21.484375  \n",
       "2              21.0   23.0  1.80  30.864198  \n",
       "3              27.0   18.0  1.55  24.973985  \n",
       "4              33.0   11.0  1.55  20.811655  \n",
       "...             ...    ...   ...        ...  \n",
       "3999995        13.0   22.0  1.70  22.491349  \n",
       "3999996        65.0  160.0  1.65  29.384757  \n",
       "3999997        26.0   25.0  1.55  27.055151  \n",
       "3999998        20.0   16.0  1.60  21.484375  \n",
       "3999999        21.0   34.0  1.60  19.531250  \n",
       "\n",
       "[4000000 rows x 24 columns]"
      ]
     },
     "execution_count": 1,
     "metadata": {},
     "output_type": "execute_result"
    }
   ],
   "source": [
    "import pandas as pd\n",
    "df = pd.read_csv('혈액수치추가_원본(2020-2023).csv', encoding = 'utf-8-sig')\n",
    "df"
   ]
  },
  {
   "cell_type": "code",
   "execution_count": 2,
   "id": "206b3ff9-c682-4587-85b9-1d108b421a34",
   "metadata": {},
   "outputs": [
    {
     "data": {
      "text/plain": [
       "(4000000, 24)"
      ]
     },
     "execution_count": 2,
     "metadata": {},
     "output_type": "execute_result"
    }
   ],
   "source": [
    "# 데이터 크기 확인 (행,열)\n",
    "\n",
    "df.shape"
   ]
  },
  {
   "cell_type": "code",
   "execution_count": 6,
   "id": "3584354d-94a1-475a-940d-ce9c0cfc043d",
   "metadata": {
    "collapsed": true,
    "jupyter": {
     "outputs_hidden": true
    }
   },
   "outputs": [
    {
     "name": "stdout",
     "output_type": "stream",
     "text": [
      "         기준년도  가입자일련번호  시도코드  성별  연령대코드(5세단위)  신장(5cm단위)  체중(5kg단위)  수축기혈압  \\\n",
      "0        2020  2250657    41   2           13        160         55  130.0   \n",
      "1        2020  4699612    41   2           10        160         55  130.0   \n",
      "2        2020  4734684    41   1            9        180        100  130.0   \n",
      "3        2020  4450131    41   2           11        155         60  149.0   \n",
      "4        2020  1337937    41   2           10        155         50  129.0   \n",
      "...       ...      ...   ...  ..          ...        ...        ...    ...   \n",
      "3999993  2023  3833709    41   1            6        180         75  125.0   \n",
      "3999995  2023  3265034    26   1            8        170         65  107.0   \n",
      "3999997  2023  3889375    41   2           11        155         65  146.0   \n",
      "3999998  2023  2618086    41   2            7        160         55  122.0   \n",
      "3999999  2023  1279122    31   2           12        160         50  129.0   \n",
      "\n",
      "         이완기혈압  식전혈당(공복혈당)  ...  흡연상태  음주여부   혈색소  요단백  혈청크레아티닌  혈청지오티(AST)  \\\n",
      "0         82.0        98.0  ...   1.0   0.0  13.4  1.0      0.8        46.0   \n",
      "1         80.0        98.0  ...   1.0   1.0  10.8  1.0      0.8        24.0   \n",
      "2         90.0       103.0  ...   1.0   1.0  14.7  1.0      0.8        23.0   \n",
      "3         90.0        84.0  ...   1.0   1.0  13.6  1.0      0.8        29.0   \n",
      "4         80.0       104.0  ...   1.0   0.0  11.8  1.0      0.8        32.0   \n",
      "...        ...         ...  ...   ...   ...   ...  ...      ...         ...   \n",
      "3999993   80.0        92.0  ...   1.0   1.0  16.9  1.0      1.1        30.0   \n",
      "3999995   61.0        83.0  ...   1.0   1.0  13.6  1.0      0.9        19.0   \n",
      "3999997   83.0       156.0  ...   1.0   1.0  14.7  1.0      0.8        20.0   \n",
      "3999998   71.0       105.0  ...   1.0   0.0  13.5  1.0      0.9        22.0   \n",
      "3999999   62.0        95.0  ...   1.0   0.0  13.0  1.0      0.8        29.0   \n",
      "\n",
      "         혈청지피티(ALT)  감마지티피  키(m)        BMI  \n",
      "0              77.0   62.0  1.60  21.484375  \n",
      "1              19.0   21.0  1.60  21.484375  \n",
      "2              21.0   23.0  1.80  30.864198  \n",
      "3              27.0   18.0  1.55  24.973985  \n",
      "4              33.0   11.0  1.55  20.811655  \n",
      "...             ...    ...   ...        ...  \n",
      "3999993        20.0   16.0  1.80  23.148148  \n",
      "3999995        13.0   22.0  1.70  22.491349  \n",
      "3999997        26.0   25.0  1.55  27.055151  \n",
      "3999998        20.0   16.0  1.60  21.484375  \n",
      "3999999        21.0   34.0  1.60  19.531250  \n",
      "\n",
      "[2665960 rows x 24 columns]\n"
     ]
    }
   ],
   "source": [
    "print(df[df.isnull().any(axis=1)])"
   ]
  },
  {
   "cell_type": "code",
   "execution_count": 4,
   "id": "7ad17920-ae16-47ea-b91d-fb02070eb9b9",
   "metadata": {
    "scrolled": true
   },
   "outputs": [
    {
     "data": {
      "text/plain": [
       "기준년도                 0\n",
       "가입자일련번호              0\n",
       "시도코드                 0\n",
       "성별                   0\n",
       "연령대코드(5세단위)          0\n",
       "신장(5cm단위)            0\n",
       "체중(5kg단위)            0\n",
       "수축기혈압            22236\n",
       "이완기혈압            22238\n",
       "식전혈당(공복혈당)       22484\n",
       "총콜레스테롤         2632192\n",
       "트리글리세라이드       2632191\n",
       "HDL콜레스테롤       2632195\n",
       "LDL콜레스테롤       2658417\n",
       "흡연상태               787\n",
       "음주여부               440\n",
       "혈색소              22507\n",
       "요단백              43108\n",
       "혈청크레아티닌          22491\n",
       "혈청지오티(AST)       22480\n",
       "혈청지피티(ALT)       22480\n",
       "감마지티피            22480\n",
       "키(m)                 0\n",
       "BMI                  0\n",
       "dtype: int64"
      ]
     },
     "execution_count": 4,
     "metadata": {},
     "output_type": "execute_result"
    }
   ],
   "source": [
    "df.isna().sum()"
   ]
  },
  {
   "cell_type": "code",
   "execution_count": 3,
   "id": "d64b9ae1-eed5-43e1-a349-dbd03252d8d6",
   "metadata": {},
   "outputs": [
    {
     "data": {
      "text/plain": [
       "Index(['기준년도', '가입자일련번호', '시도코드', '성별', '연령대코드(5세단위)', '신장(5cm단위)',\n",
       "       '체중(5kg단위)', '수축기혈압', '이완기혈압', '식전혈당(공복혈당)', '총콜레스테롤', '트리글리세라이드',\n",
       "       'HDL콜레스테롤', 'LDL콜레스테롤', '흡연상태', '음주여부', '혈색소', '요단백', '혈청크레아티닌',\n",
       "       '혈청지오티(AST)', '혈청지피티(ALT)', '감마지티피', '키(m)', 'BMI'],\n",
       "      dtype='object')"
      ]
     },
     "execution_count": 3,
     "metadata": {},
     "output_type": "execute_result"
    }
   ],
   "source": [
    "df.columns"
   ]
  },
  {
   "cell_type": "code",
   "execution_count": 4,
   "id": "3a7f3d69-ff96-4c9e-a850-6a8577297f35",
   "metadata": {
    "collapsed": true,
    "jupyter": {
     "outputs_hidden": true
    }
   },
   "outputs": [
    {
     "name": "stdout",
     "output_type": "stream",
     "text": [
      "<class 'pandas.core.frame.DataFrame'>\n",
      "RangeIndex: 4000000 entries, 0 to 3999999\n",
      "Data columns (total 24 columns):\n",
      " #   Column       Dtype  \n",
      "---  ------       -----  \n",
      " 0   기준년도         int64  \n",
      " 1   가입자일련번호      int64  \n",
      " 2   시도코드         int64  \n",
      " 3   성별           int64  \n",
      " 4   연령대코드(5세단위)  int64  \n",
      " 5   신장(5cm단위)    int64  \n",
      " 6   체중(5kg단위)    int64  \n",
      " 7   수축기혈압        float64\n",
      " 8   이완기혈압        float64\n",
      " 9   식전혈당(공복혈당)   float64\n",
      " 10  총콜레스테롤       float64\n",
      " 11  트리글리세라이드     float64\n",
      " 12  HDL콜레스테롤     float64\n",
      " 13  LDL콜레스테롤     float64\n",
      " 14  흡연상태         float64\n",
      " 15  음주여부         float64\n",
      " 16  혈색소          float64\n",
      " 17  요단백          float64\n",
      " 18  혈청크레아티닌      float64\n",
      " 19  혈청지오티(AST)   float64\n",
      " 20  혈청지피티(ALT)   float64\n",
      " 21  감마지티피        float64\n",
      " 22  키(m)         float64\n",
      " 23  BMI          float64\n",
      "dtypes: float64(17), int64(7)\n",
      "memory usage: 732.4 MB\n"
     ]
    }
   ],
   "source": [
    "df.info()"
   ]
  },
  {
   "cell_type": "markdown",
   "id": "df5c7d15-de51-476e-97b8-afc46bc1f805",
   "metadata": {},
   "source": [
    "## 중요한 변수 선별\n",
    "1. 고혈압 여부를 확인하는 주요 변수\n",
    "   - 수축기혈압\n",
    "   - 이완기혈압\n",
    "   - 식전혈당(공복혈당)\n",
    "   - 총콜레스테롤\n",
    "   - LDL\n",
    "   - HDL\n",
    "   - BMI\n",
    "     \n",
    "2. 생활습관 관련 변수\n",
    "   - 흡연상태\n",
    "   - 음주여부\n",
    "\n",
    "3. 기본 인구통계 정보\n",
    "   - 성별\n",
    "   - 연령대코드(5세단위)"
   ]
  },
  {
   "cell_type": "code",
   "execution_count": 7,
   "id": "0ab98a83-8ba8-4932-884a-ace000370ab1",
   "metadata": {},
   "outputs": [
    {
     "name": "stdout",
     "output_type": "stream",
     "text": [
      "기준년도                 0\n",
      "가입자일련번호              0\n",
      "시도코드                 0\n",
      "성별                   0\n",
      "연령대코드(5세단위)          0\n",
      "신장(5cm단위)            0\n",
      "체중(5kg단위)            0\n",
      "수축기혈압            22236\n",
      "이완기혈압            22238\n",
      "식전혈당(공복혈당)       22484\n",
      "총콜레스테롤         2632192\n",
      "트리글리세라이드       2632191\n",
      "HDL콜레스테롤       2632195\n",
      "LDL콜레스테롤       2658417\n",
      "흡연상태               787\n",
      "음주여부               440\n",
      "혈색소              22507\n",
      "요단백              43108\n",
      "혈청크레아티닌          22491\n",
      "혈청지오티(AST)       22480\n",
      "혈청지피티(ALT)       22480\n",
      "감마지티피            22480\n",
      "키(m)                 0\n",
      "BMI                  0\n",
      "dtype: int64\n"
     ]
    }
   ],
   "source": [
    "# 결측치 (누락된 값) 확인\n",
    "\n",
    "print(df.isnull().sum())"
   ]
  },
  {
   "cell_type": "markdown",
   "id": "d7c41ce1-b178-4c0c-9ae7-5984c157dd38",
   "metadata": {},
   "source": [
    "## 수축기혈압 & 이완기혈압 분포 그래프 해석\n",
    "1. 수축 & 이완기의 평균적인 위치 확인\n",
    "   - 수축기혈압(파랑) : 약 110 ~ 140 mmHg 사이에 가장 많은 데이터 분포\n",
    "   - 이완기혈압(빨강) : 약 60 ~ 90 mmHg 사이에 가장 많은 데이터 분포\\\n",
    "   => 대부분 사람들은 정상 혈압에 위치함\n",
    "\n",
    "2. 비정상적인 값(너무 높거나 낮은 값) 확인\n",
    "   - 수축기혈압이 180mmHg 이상인 데이터 존재 -> 고혈압 환자 가능성\n",
    "   - 이완기혈압이 50mmHg 이하인 데이터 존재 -> 저혈압 환자 가능성\n",
    "\n",
    "3. 분포 모양 분석(정규분포 vs 비대칭)\n",
    "   - 수축기혈압과 이완기혈압이 완전히 대칭이 아님\n",
    "   - 왼쪽보다 오른쪽(높은 혈압) 방향으로 데이터가 퍼져 있음\\\n",
    "   => 일부 데이터에서 고혈압 경향이 보임"
   ]
  },
  {
   "cell_type": "code",
   "execution_count": 10,
   "id": "c11970cc-b8d0-448d-8da4-1d9b62b4d1cb",
   "metadata": {},
   "outputs": [
    {
     "data": {
      "image/png": "[encoded data removed]",
      "text/plain": [
       "<Figure size 1200x500 with 1 Axes>"
      ]
     },
     "metadata": {},
     "output_type": "display_data"
    }
   ],
   "source": [
    "import matplotlib.pyplot as plt\n",
    "import seaborn as sns\n",
    "\n",
    "plt.rc('font', family='Malgun Gothic')\n",
    "plt.rcParams['axes.unicode_minus'] = False\n",
    "\n",
    "plt.figure(figsize=(12,5))\n",
    "\n",
    "sns.histplot(df['수축기혈압'], bins = 50, kde = True, color ='blue', label ='수축기혈압')\n",
    "sns.histplot(df['이완기혈압'], bins = 50, kde = True, color ='red', label ='이완기혈압')\n",
    "\n",
    "plt.legend()\n",
    "plt.title('수축기혈압 & 이완기혈압 분포')\n",
    "plt.xlabel('혈압수치')\n",
    "plt.ylabel('빈도')\n",
    "\n",
    "plt.show()"
   ]
  },
  {
   "cell_type": "markdown",
   "id": "1963e93a-9764-474d-bc97-fd7eb85de432",
   "metadata": {},
   "source": [
    "## 연령별 혈압 변화\n",
    "\n",
    "수축기혈압(파랑), 이완기혈압(주황)  \n",
    "\n",
    "1. 나이가 많아질수록 수축기혈압이 꾸준히 증가\n",
    "   - 20대 초반 : 평균 115 ~ 120mmHg\n",
    "   - 50대 이후 : 130mmHg 이상\n",
    "   - 70~80대 이후 : 평균 최대 135mmHg까지 증가  \n",
    "   > 연령이 증가할수록 고혈압 위험이 커질 가능성이 있음  \n",
    "  \n",
    "2. 이완기혈압은 50대 이후로 감소\n",
    "   - 20~40대 : 이완기혈압이 꾸준히 증가\n",
    "   - 50대 이후 : 서서히 감소\n",
    "   > 이완기혈압은 젊을 때 증가하다 나이가 들면서 감소함  \n",
    "  \n",
    "3. 고혈압 가능성이 있는 연령대\n",
    "   - 70대 이상에서는 일부 고혈압이 도달\n",
    "   - 특히 수축기혈압은 130mmHg을 넘어서면서 위험신호를 보임<bar>\n",
    "\n",
    "<br/>4. 50대 이후 혈압 패턴 변화\n",
    "   - 수축기혈압은 계속 증가하지만 이완기혈압은 오히려 감소\n",
    "   > 고령층에서는 혈관 탄력성이 떨어지면서 수축기혈압이 높아지고, 이완기혈압이 낮아지는 경향을 보일 수 있음"
   ]
  },
  {
   "cell_type": "code",
   "execution_count": 12,
   "id": "02185d38-8ba1-4693-a656-6bcf2645b561",
   "metadata": {},
   "outputs": [
    {
     "data": {
      "image/png": "[encoded data removed]",
      "text/plain": [
       "<Figure size 1000x500 with 1 Axes>"
      ]
     },
     "metadata": {},
     "output_type": "display_data"
    }
   ],
   "source": [
    "import matplotlib.pyplot as plt\n",
    "import seaborn as sns\n",
    "\n",
    "#연령대코드 -> 실제 연령으로 변경\n",
    "df['연령'] = df['연령대코드(5세단위)']*5\n",
    "\n",
    "# 연령대 별 평균 수축기/이완기 혈압 계산\n",
    "age_gp = df.groupby('연령')[['수축기혈압','이완기혈압']].mean().reset_index()\n",
    "\n",
    "# 그래프 크기\n",
    "plt.figure(figsize=(10,5))\n",
    "\n",
    "#수축기혈압 그래프\n",
    "sns.lineplot(x=age_gp['연령'], y=age_gp['수축기혈압'], marker ='o', label ='수축기혈압')\n",
    "\n",
    "#이완기혈압 그래프\n",
    "sns.lineplot(x=age_gp['연령'], y=age_gp['이완기혈압'], marker ='o', label ='이완기혈압')\n",
    "\n",
    "plt.title('연령대별 평균 혈압')\n",
    "plt.xlabel('연령')\n",
    "plt.ylabel('혈압 수치')\n",
    "plt.legend()\n",
    "plt.show()"
   ]
  },
  {
   "cell_type": "markdown",
   "id": "ef6e17c5-ad86-4727-bacb-11b24693e1a1",
   "metadata": {},
   "source": [
    "## 추가 분석\n",
    "1. 성별에 따른 혈압 차이\n",
    "2. 고혈압 기준 이상인 사람의 비율 확인\n",
    "3. 생활습관과 혈압의 관계 분석"
   ]
  },
  {
   "cell_type": "markdown",
   "id": "2e481fe9-0a9f-4df4-bb29-9cbd18a8b0c7",
   "metadata": {},
   "source": [
    "## 성별에 따른 평균 혈압 분석\n",
    "\n",
    "    1. 남성이 여성보다 평균 혈압이 높음  \n",
    "\n",
    "\n",
    "    2. 두 혈압이 모두 남성이 여성보다 평균적으로 높게 나타남\n",
    "       - 남성의 심혈관 질환 위험이 더 높을 가능성\n",
    "       - 일반적으로 남성이 여성보다 고혈압 위험이 높음  \n",
    "\n",
    "   \n",
    "    3. 여성의 혈압이 비교적 낮은 경향을 보임\n",
    "       - **에스트로겐**과 같은 호르몬이 혈관을 보호하는 역할을 할 가능성\n",
    "       - 폐경 이후 여성은 혈압이 상승할 가능성 있음(추후 분석 가능)"
   ]
  },
  {
   "cell_type": "code",
   "execution_count": 30,
   "id": "3e05855f-319c-40d9-910b-48eb9734483c",
   "metadata": {},
   "outputs": [
    {
     "data": {
      "image/png": "[encoded data removed]",
      "text/plain": [
       "<Figure size 800x500 with 1 Axes>"
      ]
     },
     "metadata": {},
     "output_type": "display_data"
    }
   ],
   "source": [
    "# 성별별 혈압 비교\n",
    "\n",
    "import numpy as np\n",
    "import matplotlib.pyplot as plt\n",
    "import seaborn as sns\n",
    "\n",
    "plt.rc('font',family='Malgun Gothic')\n",
    "plt.rcParams['axes.unicode_minus']=False\n",
    "\n",
    "gender_gp = df.groupby('성별')[['수축기혈압', '이완기혈압']].mean().reset_index()\n",
    "\n",
    "gender_gp['성별'] = gender_gp['성별'].replace({1:'남성', 2:'여성'})\n",
    "\n",
    "# x축 위치 설정\n",
    "x=np.arange(len(gender_gp['성별']))\n",
    "width=0.4\n",
    "\n",
    "# 그래프 크기 설정\n",
    "plt.figure(figsize=(8, 5))\n",
    "\n",
    "plt.bar(x-width/2, gender_gp['수축기혈압'], width=width, label='수축기혈압', color = 'cornflowerblue')\n",
    "plt.bar(x+width/2, gender_gp['이완기혈압'], width=width, label='이완기혈압', color = 'mediumseagreen')\n",
    "\n",
    "plt.xticks(x,gender_gp['성별'])\n",
    "\n",
    "\n",
    "plt.title('성별에 따른 평균 혈압 비교')\n",
    "plt.xlabel('성별')\n",
    "plt.ylabel('혈압수치')\n",
    "plt.legend()\n",
    "\n",
    "plt.show()"
   ]
  },
  {
   "cell_type": "code",
   "execution_count": 31,
   "id": "e51ee2ac-307b-47d9-9073-61291a01afce",
   "metadata": {
    "collapsed": true,
    "jupyter": {
     "outputs_hidden": true
    },
    "scrolled": true
   },
   "outputs": [
    {
     "data": {
      "image/png": "[encoded data removed]",
      "text/plain": [
       "<Figure size 800x500 with 1 Axes>"
      ]
     },
     "metadata": {},
     "output_type": "display_data"
    }
   ],
   "source": [
    "import matplotlib.pyplot as plt\n",
    "import seaborn as sns\n",
    "\n",
    "# 성별별 평균 혈압 계산\n",
    "gender_bp = df.groupby(\"성별\")[[\"수축기혈압\", \"이완기혈압\"]].mean().reset_index()\n",
    "\n",
    "# 성별을 남성과 여성으로 변환\n",
    "gender_bp[\"성별\"] = gender_bp[\"성별\"].replace({1: \"남성\", 2: \"여성\"})\n",
    "\n",
    "plt.figure(figsize=(8, 5))\n",
    "\n",
    "sns.barplot(x=gender_bp[\"성별\"], y=gender_bp[\"수축기혈압\"], color=\"blue\", label=\"수축기혈압\")\n",
    "sns.barplot(x=gender_bp[\"성별\"], y=gender_bp[\"이완기혈압\"], color=\"red\", alpha=0.6, label=\"이완기혈압\")\n",
    "\n",
    "plt.title(\"성별에 따른 평균 혈압 비교\")\n",
    "plt.ylabel(\"혈압 수치\")\n",
    "plt.xlabel(\"성별\")\n",
    "plt.legend()\n",
    "plt.show()\n"
   ]
  },
  {
   "cell_type": "markdown",
   "id": "f7b353b9-b29b-43a6-a262-225d3f695df5",
   "metadata": {},
   "source": [
    "## 고혈압 비율 분석 인사이트\n",
    "\n",
    "    1. 고혈압 환자가 전체 데이터에서 약 14% 차지\n",
    "       - 생각보다 고혈압 비율 높음 -> 고혈압 합병증 예측이 중요\n",
    "       - 추가적으로 연령대별, 성별 차이를 확인하면 더 정확한 분석 가능\n",
    "\n",
    "    2. 연령대별 고혈압 비율 분석 필요\n",
    "       - 나이가 많을수록 고혈압 비율 증가\n",
    "       - 특정 연령대에서 고혈합이 급격히 증가하는 구간이 있는지 확인\n",
    "\n",
    "    3. 성별별 고혈압 비율 비교 필요\n",
    "       - 여성 -> 폐경 이후 여성의 혈압 상승 여부 추후 분석"
   ]
  },
  {
   "cell_type": "code",
   "execution_count": 33,
   "id": "b97e9619-6691-46eb-8d0a-1c18eb09e0b1",
   "metadata": {},
   "outputs": [
    {
     "name": "stdout",
     "output_type": "stream",
     "text": [
      "전체 데이터 개수 : 4000000명\n",
      "고혈압 환자 개수 : 560222명\n",
      "고혈압 비율 :  14.01%\n"
     ]
    }
   ],
   "source": [
    "# 고혈압 기준 설정\n",
    "hypertension = df[(df['수축기혈압'] >= 140) | (df['이완기혈압'] >= 90)]\n",
    "\n",
    "# 전체 데이터 대비 고혈압 비율 계산\n",
    "total_count = len(df) \n",
    "hypertension_count = len(hypertension)\n",
    "hypertension_ratio = (hypertension_count / total_count) * 100  \n",
    "\n",
    "print(f'전체 데이터 개수 : {total_count}명')\n",
    "print(f'고혈압 환자 개수 : {hypertension_count}명')\n",
    "print(f'고혈압 비율 : {hypertension_ratio : .2f}%')\n"
   ]
  },
  {
   "cell_type": "markdown",
   "id": "9360aa10-d814-4aad-b83d-10c4e106fc18",
   "metadata": {},
   "source": [
    "## 연령대별 고혈압 비율 분석\n",
    "\n",
    "    1. 연령이 증가할 수록 고혈압 비율이 꾸준히 증가\n",
    "\n",
    "    2. 고혈압 비율이 급격히 증가하는 구간 발견\n",
    "       - 40대 초반부터 점차 증가\n",
    "       - 특히 70대 이후로 급격히 상승 -> 노년층의 고혈압 관리가 매우 중요\n",
    "       \n",
    "    3.  젋은 층에서도 고혈압이 존재\n",
    "        - 비만, 스트레스, 생활습관 문제로 인해 고혈압 발생 가능성 존재\n",
    "\n",
    "    4. 고혈압 합병증 예측 모델을 만들 때, 연령 변수를 강력한 변수로 고려하기\n",
    "        - 나이가 많을수록 고혈압 위험 높아짐 -> 머신러닝 모델에서 중요한 변수로 사용\n",
    "        - 특정 연령대 기준으로 고위험군을 사전 예측하는 시스템 개발 가능"
   ]
  },
  {
   "cell_type": "code",
   "execution_count": 36,
   "id": "780bc9f0-415d-4bf2-9f46-94970ee09e79",
   "metadata": {},
   "outputs": [
    {
     "data": {
      "image/png": "[encoded data removed]",
      "text/plain": [
       "<Figure size 1000x500 with 1 Axes>"
      ]
     },
     "metadata": {},
     "output_type": "display_data"
    }
   ],
   "source": [
    "import matplotlib.pyplot as plt\n",
    "import seaborn as sns\n",
    "\n",
    "\n",
    "# 연령대별 고혈압 비율 계산\n",
    "age_hypertension = df.groupby('연령대코드(5세단위)')[['수축기혈압', '이완기혈압']].apply(\n",
    "    lambda x : ((x['수축기혈압'] >= 140) | (x['이완기혈압'] >= 90)).sum() / len(x)*100).reset_index(name='고혈압 비율(%)')\n",
    "\n",
    "# 연령 * 5 로 실제 나이로 변경\n",
    "age_hypertension['연령'] = age_hypertension['연령대코드(5세단위)'] * 5\n",
    "\n",
    "plt.figure(figsize=(10,5))\n",
    "\n",
    "sns.barplot(x=age_hypertension['연령'], y= age_hypertension['고혈압 비율(%)'], color=\"tomato\")\n",
    "\n",
    "plt.title('연령대 별 고혈압 비율')\n",
    "plt.xlabel('연령')\n",
    "plt.ylabel('고혈압 비율(%)')\n",
    "\n",
    "plt.show()"
   ]
  },
  {
   "cell_type": "markdown",
   "id": "653ee987-8c65-4798-b112-294de2d82a58",
   "metadata": {},
   "source": [
    "## 성별별 고혈압 비율 분석 인사이트\n",
    "\n",
    "    1. 남성이 고혈압 비율이 높은 이유\n",
    "        - 남성이 고혈압 위험 요인을 더 많이 가질 가능성 존재(흡연, 음주, 활동량 등)\n",
    "        - 일반적으로 남성의 심혈관 질환 발생 위험이 높다는 선행 연구 결과 존재\n",
    "        - 생활습관이 주요 원인일 가능성\n",
    "\n",
    "    2. 폐경 이후 여성의 고혈압 증가 가능성\n",
    "        - 현재 분석은 연령 요인을 고려하지 않음\n",
    "        - 50~60대 이후 여성의 고혈압 유병률 변화를 추가로 분석할 필요 있음\n",
    "        - 이를 위해, 연령과 성별을 동시에 고려한 교차 분석 필요\n",
    "\n",
    "    3. 고혈압 합병증 예측 모델 활용\n",
    "        - 고혈압 합병증 예측 모델에서 성별 변수를 독립 변수로 활용 가능\n",
    "        - 성별에 따른 예측 정확도 차이 분석도 유의미할 수 있음"
   ]
  },
  {
   "cell_type": "code",
   "execution_count": 37,
   "id": "69687b95-ec70-471e-afa5-dfaf88dbfd72",
   "metadata": {},
   "outputs": [
    {
     "name": "stderr",
     "output_type": "stream",
     "text": [
      "C:\\Users\\Public\\Documents\\ESTsoft\\CreatorTemp\\ipykernel_16712\\1725586822.py:16: FutureWarning: \n",
      "\n",
      "Passing `palette` without assigning `hue` is deprecated and will be removed in v0.14.0. Assign the `x` variable to `hue` and set `legend=False` for the same effect.\n",
      "\n",
      "  sns.barplot(x=gender_hypertension['성별'], y=gender_hypertension['고혈압 비율(%)'],  palette=[\"cornflowerblue\", \"lightcoral\"])\n"
     ]
    },
    {
     "data": {
      "image/png": "[encoded data removed]",
      "text/plain": [
       "<Figure size 600x500 with 1 Axes>"
      ]
     },
     "metadata": {},
     "output_type": "display_data"
    }
   ],
   "source": [
    "import matplotlib.pyplot as plt\n",
    "import seaborn as sns\n",
    "\n",
    "\n",
    "# 성별별 고혈압 비율 계산\n",
    "\n",
    "gender_hypertension = df.groupby('성별')[['수축기혈압','이완기혈압']].apply(\n",
    "    lambda x : ((x['수축기혈압'] >= 140) | (x['이완기혈압'] >= 90)).sum() /len(x) * 100).reset_index(name = '고혈압 비율(%)')\n",
    "\n",
    "gender_hypertension['성별'] = gender_hypertension['성별'].replace({1:'남성', 2: '여성'})\n",
    "\n",
    "plt.figure(figsize =(6,5))\n",
    "\n",
    "sns.barplot(x=gender_hypertension['성별'], y=gender_hypertension['고혈압 비율(%)'],  palette=[\"cornflowerblue\", \"lightcoral\"])\n",
    "\n",
    "plt.title('성별별 고혈압 비율')\n",
    "plt.xlabel('성별')\n",
    "plt.ylabel('고혈압 비율(%)')\n",
    "plt.show()"
   ]
  },
  {
   "cell_type": "code",
   "execution_count": null,
   "id": "18c01562-1348-4dc7-8267-ba80b4435d96",
   "metadata": {},
   "outputs": [],
   "source": []
  },
  {
   "cell_type": "code",
   "execution_count": null,
   "id": "ec412529-094d-44d4-a28a-6e0046be54b7",
   "metadata": {},
   "outputs": [],
   "source": []
  },
  {
   "cell_type": "code",
   "execution_count": null,
   "id": "d42601ea-8df6-42cc-b906-99458a6786fe",
   "metadata": {},
   "outputs": [],
   "source": []
  },
  {
   "cell_type": "code",
   "execution_count": null,
   "id": "588e325f-1d66-45e8-84fb-4f4cb6e8b8f8",
   "metadata": {},
   "outputs": [],
   "source": []
  },
  {
   "cell_type": "code",
   "execution_count": null,
   "id": "15ddd274-ab7a-4c46-9839-a02bfe0f01b4",
   "metadata": {},
   "outputs": [],
   "source": []
  },
  {
   "cell_type": "code",
   "execution_count": null,
   "id": "86b354bf-b1f2-4161-a602-74a877b50edf",
   "metadata": {},
   "outputs": [],
   "source": []
  },
  {
   "cell_type": "code",
   "execution_count": null,
   "id": "74dbed1f-135e-4629-b812-9df89b47a0c6",
   "metadata": {},
   "outputs": [],
   "source": []
  },
  {
   "cell_type": "code",
   "execution_count": null,
   "id": "6f083d9d-9cd7-4d4b-9f7b-f4901a525099",
   "metadata": {},
   "outputs": [],
   "source": []
  },
  {
   "cell_type": "code",
   "execution_count": null,
   "id": "c6bb6aeb-1e81-47be-82c4-a766dd634f44",
   "metadata": {},
   "outputs": [],
   "source": []
  }
 ],
 "metadata": {
  "kernelspec": {
   "display_name": "Python 3 (ipykernel)",
   "language": "python",
   "name": "python3"
  },
  "language_info": {
   "codemirror_mode": {
    "name": "ipython",
    "version": 3
   },
   "file_extension": ".py",
   "mimetype": "text/x-python",
   "name": "python",
   "nbconvert_exporter": "python",
   "pygments_lexer": "ipython3",
   "version": "3.11.9"
  }
 },
 "nbformat": 4,
 "nbformat_minor": 5
}
